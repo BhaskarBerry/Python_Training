{
 "cells": [
  {
   "cell_type": "markdown",
   "id": "23ae5734",
   "metadata": {},
   "source": [
    "# Numbers"
   ]
  },
  {
   "cell_type": "markdown",
   "id": "daf3bbd0",
   "metadata": {},
   "source": [
    "### fractions: Get Numerical Results in Fractions Instead of Decimals\n",
    "    Normally, when you divide a number by another number, you will get a decimal:"
   ]
  },
  {
   "cell_type": "code",
   "execution_count": 1,
   "id": "84f21d67",
   "metadata": {},
   "outputs": [
    {
     "data": {
      "text/plain": [
       "1.5"
      ]
     },
     "execution_count": 1,
     "metadata": {},
     "output_type": "execute_result"
    }
   ],
   "source": [
    "3/2"
   ]
  },
  {
   "cell_type": "code",
   "execution_count": 3,
   "id": "3f68b38b",
   "metadata": {},
   "outputs": [
    {
     "data": {
      "text/plain": [
       "1.6666666666666665"
      ]
     },
     "execution_count": 3,
     "metadata": {},
     "output_type": "execute_result"
    }
   ],
   "source": [
    "2 / 3 + 1\n"
   ]
  },
  {
   "cell_type": "markdown",
   "id": "3e18db62",
   "metadata": {},
   "source": [
    "    Sometimes, you might prefer to get the results in fractions instead of decimals. There is Python built-in function called fractions that allows you to do exactly that.\n",
    "    \n",
    "    Cool! We got a fraction instead of a decimal. To limit the number of decimals displayed, use limit_denominator().\n",
    "    \n",
    "    If we divide the result we got from Fraction by another number,we got back a fraction without using the Fraction object again."
   ]
  },
  {
   "cell_type": "code",
   "execution_count": 4,
   "id": "feb6c341",
   "metadata": {},
   "outputs": [
    {
     "data": {
      "text/plain": [
       "Fraction(3752999689475413, 2251799813685248)"
      ]
     },
     "execution_count": 4,
     "metadata": {},
     "output_type": "execute_result"
    }
   ],
   "source": [
    "from fractions import Fraction\n",
    "res = Fraction(2 / 3 + 1)\n",
    "res"
   ]
  },
  {
   "cell_type": "code",
   "execution_count": 6,
   "id": "4386fc2d",
   "metadata": {},
   "outputs": [
    {
     "name": "stdout",
     "output_type": "stream",
     "text": [
      "5/3\n"
     ]
    }
   ],
   "source": [
    "res = res.limit_denominator()\n",
    "print(res)"
   ]
  },
  {
   "cell_type": "code",
   "execution_count": 7,
   "id": "3bfe6750",
   "metadata": {},
   "outputs": [
    {
     "name": "stdout",
     "output_type": "stream",
     "text": [
      "5/9\n"
     ]
    }
   ],
   "source": [
    "print(res / 3)"
   ]
  },
  {
   "cell_type": "markdown",
   "id": "815ae123",
   "metadata": {},
   "source": [
    "### How to Use Underscores to Format Large Numbers in Python\n",
    "    When working with a large number in Python, it can be difficult to figure out how many digits that number has. Python 3.6 and above allows you to use underscores as visual separators to group digits. In the example below, I use underscores to group decimal numbers by thousands."
   ]
  },
  {
   "cell_type": "code",
   "execution_count": 8,
   "id": "d2bca1d5",
   "metadata": {},
   "outputs": [
    {
     "data": {
      "text/plain": [
       "1000000"
      ]
     },
     "execution_count": 8,
     "metadata": {},
     "output_type": "execute_result"
    }
   ],
   "source": [
    "large_num = 1_000_000\n",
    "large_num"
   ]
  },
  {
   "cell_type": "markdown",
   "id": "25f89785",
   "metadata": {},
   "source": [
    "### Confirm Whether a Variable Is a Number\n",
    "    If you want to confirm whether a variable is a number without caring whether it is a float or an integer, numbers, use numbers.Number."
   ]
  },
  {
   "cell_type": "code",
   "execution_count": 11,
   "id": "dff639aa",
   "metadata": {},
   "outputs": [
    {
     "data": {
      "text/plain": [
       "False"
      ]
     },
     "execution_count": 11,
     "metadata": {},
     "output_type": "execute_result"
    }
   ],
   "source": [
    "from numbers import Number\n",
    "a= 2\n",
    "b= 0.3\n",
    "c = \"T\"\n",
    "#Check if a is a number\n",
    "isinstance(c, Number)"
   ]
  },
  {
   "cell_type": "markdown",
   "id": "ba7d878e",
   "metadata": {},
   "source": [
    "### Get Multiples of a Number Using Modulus\n",
    "    If you want to get multiples of a number, use the modulus operator %. The modulus operator is used to get the remainder of a division. For example, 4 % 3 = 1, 5 % 3 = 2. Thus, to get multiples of n, we select only numbers whose remainders are 0 when dividing them by n."
   ]
  },
  {
   "cell_type": "code",
   "execution_count": 12,
   "id": "50b7b877",
   "metadata": {},
   "outputs": [],
   "source": [
    "def get_multipules_of_n(nums: list, n: int):\n",
    "    \"\"\" Select only numbers whose remainders are 0 when dividing them by n \"\"\"\n",
    "    return [num for num in nums if num % n == 0 ]\n",
    "\n",
    "nums = [1,4,9,12,15,16]"
   ]
  },
  {
   "cell_type": "code",
   "execution_count": 13,
   "id": "26fb57d5",
   "metadata": {},
   "outputs": [
    {
     "data": {
      "text/plain": [
       "[4, 12, 16]"
      ]
     },
     "execution_count": 13,
     "metadata": {},
     "output_type": "execute_result"
    }
   ],
   "source": [
    "get_multipules_of_n(nums,2)"
   ]
  },
  {
   "cell_type": "code",
   "execution_count": 14,
   "id": "8a897243",
   "metadata": {},
   "outputs": [
    {
     "data": {
      "text/plain": [
       "[9, 12, 15]"
      ]
     },
     "execution_count": 14,
     "metadata": {},
     "output_type": "execute_result"
    }
   ],
   "source": [
    "get_multipules_of_n(nums,3)"
   ]
  },
  {
   "cell_type": "code",
   "execution_count": null,
   "id": "93a655ee",
   "metadata": {},
   "outputs": [],
   "source": []
  }
 ],
 "metadata": {
  "kernelspec": {
   "display_name": "Python 3 (ipykernel)",
   "language": "python",
   "name": "python3"
  },
  "language_info": {
   "codemirror_mode": {
    "name": "ipython",
    "version": 3
   },
   "file_extension": ".py",
   "mimetype": "text/x-python",
   "name": "python",
   "nbconvert_exporter": "python",
   "pygments_lexer": "ipython3",
   "version": "3.7.4"
  }
 },
 "nbformat": 4,
 "nbformat_minor": 5
}
