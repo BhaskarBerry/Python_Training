{
 "cells": [
  {
   "cell_type": "markdown",
   "id": "a6c02f60",
   "metadata": {},
   "source": [
    "# Apply Functions to elements in a Lists\n",
    "\n",
    "    > any\n",
    "    > all\n",
    "    > filter\n",
    "    > map"
   ]
  },
  {
   "cell_type": "markdown",
   "id": "bc700222",
   "metadata": {},
   "source": [
    "### any: Check if Any Element of an Iterable is True\n",
    "    If you want to check if any element of an iterable is True, use any. In the code below, I use any to find if any element in the text is in uppercase."
   ]
  },
  {
   "cell_type": "code",
   "execution_count": 1,
   "id": "b14cff6e",
   "metadata": {},
   "outputs": [
    {
     "data": {
      "text/plain": [
       "True"
      ]
     },
     "execution_count": 1,
     "metadata": {},
     "output_type": "execute_result"
    }
   ],
   "source": [
    "text = \"abcdE\"\n",
    "any(c for c in text if c.isupper())"
   ]
  },
  {
   "cell_type": "markdown",
   "id": "09ec6b9b",
   "metadata": {},
   "source": [
    "### all: Check if All Elements of an Iterable Are Strings\n",
    "    If you want to check if all elements of an iterable are strings, use all and isinstance"
   ]
  },
  {
   "cell_type": "code",
   "execution_count": 2,
   "id": "c065aed5",
   "metadata": {},
   "outputs": [
    {
     "data": {
      "text/plain": [
       "True"
      ]
     },
     "execution_count": 2,
     "metadata": {},
     "output_type": "execute_result"
    }
   ],
   "source": [
    "l = ['a', 'b','C']\n",
    "all(isinstance(item, str) for item in l)"
   ]
  },
  {
   "cell_type": "markdown",
   "id": "3ca00c16",
   "metadata": {},
   "source": [
    "### filter: Get the Elements of an Iterable that a Function Returns True\n",
    "    If you want to get the elements of an iterable that a function returns true, use filter.\n",
    "    In the code below, I use the filter method to get items that are fruits."
   ]
  },
  {
   "cell_type": "code",
   "execution_count": 4,
   "id": "c2649041",
   "metadata": {},
   "outputs": [
    {
     "name": "stdout",
     "output_type": "stream",
     "text": [
      "['apple', 'orange']\n"
     ]
    }
   ],
   "source": [
    "def get_fruit(val: str):\n",
    "    fruits = ['apple','orange','grape']\n",
    "    if val in fruits:\n",
    "        return True\n",
    "    else:\n",
    "        return False\n",
    "\n",
    "items = ['chair','apple','water', 'orange']\n",
    "fruits = filter(get_fruit, items)\n",
    "print(list(fruits))"
   ]
  },
  {
   "cell_type": "markdown",
   "id": "08cb86b3",
   "metadata": {},
   "source": [
    "### map method: Apply a Function to Each Item of an Iterable\n",
    "    If you want to apply the given function to each item of a given iterable, use map."
   ]
  },
  {
   "cell_type": "code",
   "execution_count": 5,
   "id": "9878c65d",
   "metadata": {},
   "outputs": [
    {
     "data": {
      "text/plain": [
       "['1', '2', '3']"
      ]
     },
     "execution_count": 5,
     "metadata": {},
     "output_type": "execute_result"
    }
   ],
   "source": [
    "nums = [1,2,3]\n",
    "list(map(str, nums))"
   ]
  },
  {
   "cell_type": "code",
   "execution_count": 6,
   "id": "beffbd10",
   "metadata": {},
   "outputs": [
    {
     "data": {
      "text/plain": [
       "[2, 4, 6]"
      ]
     },
     "execution_count": 6,
     "metadata": {},
     "output_type": "execute_result"
    }
   ],
   "source": [
    "def multiply_by_two(num: float):\n",
    "    return num * 2\n",
    "\n",
    "list(map(multiply_by_two, nums))"
   ]
  },
  {
   "cell_type": "markdown",
   "id": "03a5b5ca",
   "metadata": {},
   "source": [
    "## Get Elements"
   ]
  },
  {
   "cell_type": "markdown",
   "id": "3f7ac59d",
   "metadata": {},
   "source": [
    "### random.choice: Get a Randomly Selected Element from a Python List\n",
    "    Besides getting a random number, you can also get a random element from a Python list using random. In the code below, “stay at home” was picked randomly from a list of options."
   ]
  },
  {
   "cell_type": "code",
   "execution_count": 9,
   "id": "c906c837",
   "metadata": {},
   "outputs": [
    {
     "data": {
      "text/plain": [
       "'attend party'"
      ]
     },
     "execution_count": 9,
     "metadata": {},
     "output_type": "execute_result"
    }
   ],
   "source": [
    "import random\n",
    "\n",
    "to_do_tonight = ['Stay at home', 'attend party', 'do exercise']\n",
    "random.choice(to_do_tonight)"
   ]
  },
  {
   "cell_type": "markdown",
   "id": "9ab06990",
   "metadata": {},
   "source": [
    "### random.sample: Get Multiple Random Elements from a Python List\n",
    "    If you want to get n random elements from a list, use random.sample."
   ]
  },
  {
   "cell_type": "code",
   "execution_count": 10,
   "id": "46cc51d6",
   "metadata": {},
   "outputs": [
    {
     "data": {
      "text/plain": [
       "[2, 1]"
      ]
     },
     "execution_count": 10,
     "metadata": {},
     "output_type": "execute_result"
    }
   ],
   "source": [
    "import random\n",
    "random.seed(1)\n",
    "nums = [1,2,3,4,5]\n",
    "random_nums = random.sample(nums,2)\n",
    "random_nums"
   ]
  },
  {
   "cell_type": "markdown",
   "id": "780973db",
   "metadata": {},
   "source": [
    "### heapq: Find n Max Values of a Python List\n",
    "    If you want to extract n max values from a large Python list, using heapq will speed up the code.\n",
    "    In the code below, using heapq is more than 2 times faster than using sorting and indexing. Both methods try to find the max values of a list of 10000 items."
   ]
  },
  {
   "cell_type": "code",
   "execution_count": 11,
   "id": "7178b88f",
   "metadata": {},
   "outputs": [],
   "source": [
    "import heapq\n",
    "import random\n",
    "from timeit import timeit\n",
    "\n",
    "random.seed(0)\n",
    "l = random.sample(range(0,10000), 10000)\n",
    "\n",
    "def get_n_max_sorting(l:list, n:int):\n",
    "    l = sorted(l, reverse=True)\n",
    "    return l[:n]\n",
    "\n",
    "\n",
    "def get_n_max_heapq(l:list, n:int):\n",
    "    return heapq.nlargest(n,l)\n",
    "    "
   ]
  },
  {
   "cell_type": "code",
   "execution_count": 12,
   "id": "00f70e6b",
   "metadata": {},
   "outputs": [
    {
     "name": "stdout",
     "output_type": "stream",
     "text": [
      "Run 1000 experiments. Using heapq is 2.619 times faster than using sorting\n"
     ]
    }
   ],
   "source": [
    "expSize = 1000\n",
    "n = 100\n",
    "\n",
    "time_sorting = timeit(\"get_n_max_sorting(l, n)\",number=expSize,globals=globals())\n",
    "time_heapq = timeit('get_n_max_heapq(l, n)', number=expSize, globals=globals())\n",
    "ratio = round(time_sorting/time_heapq, 3)\n",
    "print(f'Run {expSize} experiments. Using heapq is {ratio} times' ' faster than using sorting')"
   ]
  },
  {
   "cell_type": "markdown",
   "id": "60f6bc2a",
   "metadata": {},
   "source": [
    "\"----------------------------------------------------------------------------------------------\""
   ]
  },
  {
   "cell_type": "markdown",
   "id": "2e5642a0",
   "metadata": {},
   "source": [
    "### Stop using = operator to create a copy of a Python list. Use copy method instead\n",
    "    When you create a copy of a Python list using the = operator, a change in the new list will lead to the change in the \n",
    "    old list. It is because both lists point to the same object."
   ]
  },
  {
   "cell_type": "code",
   "execution_count": 13,
   "id": "e5ef01cf",
   "metadata": {},
   "outputs": [
    {
     "data": {
      "text/plain": [
       "[1, 2, 3, 4, 5]"
      ]
     },
     "execution_count": 13,
     "metadata": {},
     "output_type": "execute_result"
    }
   ],
   "source": [
    "l1 = [1,2,3,4]\n",
    "l2 = l1\n",
    "l2.append(5)\n",
    "l2\n"
   ]
  },
  {
   "cell_type": "code",
   "execution_count": 15,
   "id": "af5a8220",
   "metadata": {},
   "outputs": [
    {
     "data": {
      "text/plain": [
       "[1, 2, 3, 4, 5]"
      ]
     },
     "execution_count": 15,
     "metadata": {},
     "output_type": "execute_result"
    }
   ],
   "source": [
    "l1"
   ]
  },
  {
   "cell_type": "markdown",
   "id": "40993197",
   "metadata": {},
   "source": [
    "#### Instead of using = operator, use copy() method. Now your old list will not change when you change your new list."
   ]
  },
  {
   "cell_type": "code",
   "execution_count": 19,
   "id": "6cd4ae20",
   "metadata": {},
   "outputs": [
    {
     "data": {
      "text/plain": [
       "[1, 2, 3, 4, 5]"
      ]
     },
     "execution_count": 19,
     "metadata": {},
     "output_type": "execute_result"
    }
   ],
   "source": [
    "list1 = [1,2,3,4]\n",
    "list2 = list1.copy()\n",
    "list2.append(5)\n",
    "list2"
   ]
  },
  {
   "cell_type": "code",
   "execution_count": 20,
   "id": "55baf3cf",
   "metadata": {},
   "outputs": [
    {
     "data": {
      "text/plain": [
       "[1, 2, 3, 4]"
      ]
     },
     "execution_count": 20,
     "metadata": {},
     "output_type": "execute_result"
    }
   ],
   "source": [
    "list1"
   ]
  },
  {
   "cell_type": "markdown",
   "id": "29feef34",
   "metadata": {},
   "source": [
    "### Enumerate: Get Counter and Value While Looping\n",
    "    Are you using for i in range(len(array)) to access both the index and the value of the array? If so, use enumerate instead. It produces the same result but it is much cleaner."
   ]
  },
  {
   "cell_type": "code",
   "execution_count": 21,
   "id": "f0919f89",
   "metadata": {},
   "outputs": [
    {
     "name": "stdout",
     "output_type": "stream",
     "text": [
      "0 a\n",
      "1 b\n",
      "2 c\n",
      "3 d\n",
      "4 e\n"
     ]
    }
   ],
   "source": [
    "arr = ['a', 'b','c','d','e']\n",
    "\n",
    "# Instead of this\n",
    "for i in range(len(arr)):\n",
    "    print(i, arr[i])"
   ]
  },
  {
   "cell_type": "code",
   "execution_count": 22,
   "id": "cd1dd18b",
   "metadata": {},
   "outputs": [
    {
     "name": "stdout",
     "output_type": "stream",
     "text": [
      "0 a\n",
      "1 b\n",
      "2 c\n",
      "3 d\n",
      "4 e\n"
     ]
    }
   ],
   "source": [
    "# Use this\n",
    "for i , val in enumerate(arr):\n",
    "    print(i,val)"
   ]
  },
  {
   "cell_type": "markdown",
   "id": "5f0d8f3c",
   "metadata": {},
   "source": [
    "### Difference between list append and list extend\n",
    "    If you want to add a list to another list, use the append method. To add elements of a list to another list, use the extend method."
   ]
  },
  {
   "cell_type": "code",
   "execution_count": 23,
   "id": "d082866e",
   "metadata": {},
   "outputs": [
    {
     "data": {
      "text/plain": [
       "[1, 2, 3, 4, 5, [6, 7, 8]]"
      ]
     },
     "execution_count": 23,
     "metadata": {},
     "output_type": "execute_result"
    }
   ],
   "source": [
    "# Add a list to a list\n",
    "a = [1,2,3,4,5]\n",
    "a.append([6,7,8])\n",
    "a"
   ]
  },
  {
   "cell_type": "code",
   "execution_count": 24,
   "id": "754ecd37",
   "metadata": {},
   "outputs": [
    {
     "data": {
      "text/plain": [
       "[1, 2, 3, 4, 5, 6, 7, 8]"
      ]
     },
     "execution_count": 24,
     "metadata": {},
     "output_type": "execute_result"
    }
   ],
   "source": [
    "b = [1,2,3,4,5]\n",
    "b.extend([6,7,8])\n",
    "b"
   ]
  },
  {
   "cell_type": "markdown",
   "id": "1c60a798",
   "metadata": {},
   "source": [
    "# Interaction Between 2 Lists"
   ]
  },
  {
   "cell_type": "markdown",
   "id": "95fa93ee",
   "metadata": {},
   "source": [
    "### set.intersection: Find the Intersection Between 2 Sets\n",
    "    If you want to get the common elements between 2 lists, convert lists to sets then use set.intersection to find the intersection between 2 sets."
   ]
  },
  {
   "cell_type": "code",
   "execution_count": 25,
   "id": "371dd4b9",
   "metadata": {},
   "outputs": [
    {
     "data": {
      "text/plain": [
       "['numpy', 'statsmodel']"
      ]
     },
     "execution_count": 25,
     "metadata": {},
     "output_type": "execute_result"
    }
   ],
   "source": [
    "lib1 = ['pandas', 'numpy', 'statsmodel']\n",
    "lib2 = ['numpy', 'statsmodel', 'matplotib','scikit']\n",
    "intersection = set.intersection(set(lib1), set(lib2))\n",
    "list(intersection)"
   ]
  },
  {
   "cell_type": "markdown",
   "id": "a5ef81ab",
   "metadata": {},
   "source": [
    "### Set Difference: Find the Difference Between 2 Sets\n",
    "    If you want to find the difference between 2 lists, turn those lists into sets then apply the difference() method to the sets."
   ]
  },
  {
   "cell_type": "code",
   "execution_count": 26,
   "id": "49f0aa23",
   "metadata": {},
   "outputs": [],
   "source": [
    "a = [1,2,3,4]\n",
    "b = [1,4,5,6,7,3]"
   ]
  },
  {
   "cell_type": "code",
   "execution_count": 27,
   "id": "28982925",
   "metadata": {},
   "outputs": [
    {
     "data": {
      "text/plain": [
       "[2]"
      ]
     },
     "execution_count": 27,
     "metadata": {},
     "output_type": "execute_result"
    }
   ],
   "source": [
    "# Find elements in a but not in b\n",
    "diff = set(a).difference(set(b))\n",
    "list(diff)"
   ]
  },
  {
   "cell_type": "code",
   "execution_count": 28,
   "id": "13245eca",
   "metadata": {},
   "outputs": [
    {
     "data": {
      "text/plain": [
       "[5, 6, 7]"
      ]
     },
     "execution_count": 28,
     "metadata": {},
     "output_type": "execute_result"
    }
   ],
   "source": [
    "# Find elements in b but not in a\n",
    "diff = set(b).difference(set(a))\n",
    "list(diff)"
   ]
  },
  {
   "cell_type": "markdown",
   "id": "e66a937a",
   "metadata": {},
   "source": [
    "# Join Iterables"
   ]
  },
  {
   "cell_type": "markdown",
   "id": "0cb8121c",
   "metadata": {},
   "source": [
    "### join method: Turn an Iterable into a Python String\n",
    "    If you want to turn an iterable into a string, use join().\n",
    "    In the code below, I join elements in the list fruits using “, “."
   ]
  },
  {
   "cell_type": "code",
   "execution_count": 30,
   "id": "c3c71c76",
   "metadata": {},
   "outputs": [
    {
     "name": "stdout",
     "output_type": "stream",
     "text": [
      "fruits = apple , orange , grapes\n"
     ]
    }
   ],
   "source": [
    "fruits = ['apple', 'orange', 'grapes']\n",
    "fruits_str = ' , '.join(fruits)\n",
    "print(f'fruits = {fruits_str}')"
   ]
  },
  {
   "cell_type": "markdown",
   "id": "ab9dbeaf",
   "metadata": {},
   "source": [
    "### Zip: Associate Elements from Two Iterators based on the Order\n",
    "    If you want to associate elements from two iterators based on the order, combine list and zip."
   ]
  },
  {
   "cell_type": "code",
   "execution_count": 31,
   "id": "86bbc025",
   "metadata": {},
   "outputs": [
    {
     "data": {
      "text/plain": [
       "[(1, 'a'), (2, 'b'), (3, 'c'), (4, 'd')]"
      ]
     },
     "execution_count": 31,
     "metadata": {},
     "output_type": "execute_result"
    }
   ],
   "source": [
    "nums = [1,2,3,4]\n",
    "string = \"abcd\"\n",
    "combinations = list(zip(nums,string))\n",
    "combinations"
   ]
  },
  {
   "cell_type": "markdown",
   "id": "866b8bf1",
   "metadata": {},
   "source": [
    "### Zip Function: Create Pairs of Elements from Two Lists in Python\n",
    "    If you want to create pairs of elements from two lists, use zip. zip() function takes iterables and aggregates them in a tuple. You can also unzip the list of tuples by using zip(*list_of_tuples)."
   ]
  },
  {
   "cell_type": "code",
   "execution_count": 32,
   "id": "2873a208",
   "metadata": {},
   "outputs": [
    {
     "data": {
      "text/plain": [
       "[(1, 'a'), (2, 'b'), (3, 'c'), (4, 'd')]"
      ]
     },
     "execution_count": 32,
     "metadata": {},
     "output_type": "execute_result"
    }
   ],
   "source": [
    "nums = [1,2,3,4]\n",
    "string = \"abcd\"\n",
    "comb = list(zip(nums,string))\n",
    "comb"
   ]
  },
  {
   "cell_type": "code",
   "execution_count": 33,
   "id": "b9d1bd97",
   "metadata": {},
   "outputs": [
    {
     "data": {
      "text/plain": [
       "((1, 2, 3, 4), ('a', 'b', 'c', 'd'))"
      ]
     },
     "execution_count": 33,
     "metadata": {},
     "output_type": "execute_result"
    }
   ],
   "source": [
    "nums_2, chars_2 = zip(*comb)\n",
    "nums_2, chars_2"
   ]
  },
  {
   "cell_type": "markdown",
   "id": "6750b0f3",
   "metadata": {},
   "source": [
    "# Unpack Iterables"
   ]
  },
  {
   "cell_type": "markdown",
   "id": "5ab185f1",
   "metadata": {},
   "source": [
    "### How to Unpack Iterables in Python\n",
    "    To assign items of a Python iterables (such as list, tuple, string) to different variables, you can unpack the iterable like below."
   ]
  },
  {
   "cell_type": "code",
   "execution_count": 34,
   "id": "a06a5725",
   "metadata": {},
   "outputs": [],
   "source": [
    "nested_arr = [[1,2,3,4],[\"a\",\"b\",\"c\"],89]\n",
    "num_arr,char_arr,num = nested_arr"
   ]
  },
  {
   "cell_type": "code",
   "execution_count": 35,
   "id": "e9617080",
   "metadata": {},
   "outputs": [
    {
     "data": {
      "text/plain": [
       "[1, 2, 3, 4]"
      ]
     },
     "execution_count": 35,
     "metadata": {},
     "output_type": "execute_result"
    }
   ],
   "source": [
    "num_arr"
   ]
  },
  {
   "cell_type": "code",
   "execution_count": 36,
   "id": "44f0bfdb",
   "metadata": {},
   "outputs": [
    {
     "data": {
      "text/plain": [
       "['a', 'b', 'c']"
      ]
     },
     "execution_count": 36,
     "metadata": {},
     "output_type": "execute_result"
    }
   ],
   "source": [
    "char_arr"
   ]
  },
  {
   "cell_type": "code",
   "execution_count": 37,
   "id": "7d917cd8",
   "metadata": {},
   "outputs": [
    {
     "data": {
      "text/plain": [
       "89"
      ]
     },
     "execution_count": 37,
     "metadata": {},
     "output_type": "execute_result"
    }
   ],
   "source": [
    "num"
   ]
  },
  {
   "cell_type": "markdown",
   "id": "0a881df9",
   "metadata": {},
   "source": [
    "### Extended Iterable Unpacking: Ignore Multiple Values when Unpacking a Python Iterable\n",
    "    If you want to ignore multiple values when unpacking a Python iterable, add * to _ as shown below.\n",
    "    This is called “Extended Iterable Unpacking” and is available in Python 3.x."
   ]
  },
  {
   "cell_type": "code",
   "execution_count": 38,
   "id": "8b74b983",
   "metadata": {},
   "outputs": [
    {
     "name": "stdout",
     "output_type": "stream",
     "text": [
      "1\n"
     ]
    }
   ],
   "source": [
    "a, *_,b = [1,2,3,4]\n",
    "print(a)"
   ]
  },
  {
   "cell_type": "code",
   "execution_count": 40,
   "id": "ce97a940",
   "metadata": {},
   "outputs": [
    {
     "data": {
      "text/plain": [
       "4"
      ]
     },
     "execution_count": 40,
     "metadata": {},
     "output_type": "execute_result"
    }
   ],
   "source": [
    "b"
   ]
  },
  {
   "cell_type": "code",
   "execution_count": 42,
   "id": "67dc7f96",
   "metadata": {},
   "outputs": [
    {
     "data": {
      "text/plain": [
       "[2, 3]"
      ]
     },
     "execution_count": 42,
     "metadata": {},
     "output_type": "execute_result"
    }
   ],
   "source": [
    "_"
   ]
  },
  {
   "cell_type": "code",
   "execution_count": 1,
   "id": "ed1dc867",
   "metadata": {},
   "outputs": [
    {
     "name": "stdout",
     "output_type": "stream",
     "text": [
      "C:\\Users\\pavani\\Anaconda3\\envs\\mldemo;C:\\Users\\pavani\\Anaconda3\\envs\\mldemo\\Library\\mingw-w64\\bin;C:\\Users\\pavani\\Anaconda3\\envs\\mldemo\\Library\\usr\\bin;C:\\Users\\pavani\\Anaconda3\\envs\\mldemo\\Library\\bin;C:\\Users\\pavani\\Anaconda3\\envs\\mldemo\\Scripts;C:\\Program Files (x86)\\Common Files\\Oracle\\Java\\javapath;C:\\Program Files\\Microsoft MPI\\Bin\\;C:\\WINDOWS\\system32;C:\\WINDOWS;C:\\WINDOWS\\System32\\Wbem;C:\\WINDOWS\\System32\\WindowsPowerShell\\v1.0\\;C:\\Program Files (x86)\\Intel\\Intel(R) Management Engine Components\\DAL;C:\\Program Files\\Intel\\Intel(R) Management Engine Components\\DAL;C:\\Program Files (x86)\\Microsoft SQL Server\\150\\Tools\\Binn\\;C:\\Program Files\\Microsoft SQL Server\\150\\Tools\\Binn\\;C:\\Program Files (x86)\\Microsoft SQL Server\\150\\DTS\\Binn\\;C:\\Program Files\\Microsoft SQL Server\\150\\DTS\\Binn\\;C:\\Program Files\\Microsoft SQL Server\\Client SDK\\ODBC\\170\\Tools\\Binn\\;C:\\Program Files\\Azure Data Studio\\bin;C:\\sw\\java\\jdk1.8.0_311\\bin;C:\\sw\\hadoop-2.7.3\\bin;C:\\sw\\spark-3.1.2-bin-hadoop3.2\\bin;C:\\sw\\scala3-3.1.0\\bin;C:\\sw\\sbt\\bin;C:\\WINDOWS\\System32\\OpenSSH\\;C:\\Program Files\\Git\\cmd;C:\\Users\\pavani\\Anaconda3;C:\\Users\\pavani\\Anaconda3\\Library\\mingw-w64\\bin;C:\\Users\\pavani\\Anaconda3\\Library\\usr\\bin;C:\\Users\\pavani\\Anaconda3\\Library\\bin;C:\\Users\\pavani\\Anaconda3\\Scripts;C:\\Users\\pavani\\AppData\\Local\\Microsoft\\WindowsApps;C:\\Program Files\\Azure Data Studio\\bin;C:\\Users\\pavani\\AppData\\Local\\Programs\\Microsoft VS Code\\bin;\n"
     ]
    }
   ],
   "source": [
    "import os\n",
    "print(os.environ['PATH'])"
   ]
  }
 ],
 "metadata": {
  "kernelspec": {
   "display_name": "Python 3 (ipykernel)",
   "language": "python",
   "name": "python3"
  },
  "language_info": {
   "codemirror_mode": {
    "name": "ipython",
    "version": 3
   },
   "file_extension": ".py",
   "mimetype": "text/x-python",
   "name": "python",
   "nbconvert_exporter": "python",
   "pygments_lexer": "ipython3",
   "version": "3.7.4"
  }
 },
 "nbformat": 4,
 "nbformat_minor": 5
}
