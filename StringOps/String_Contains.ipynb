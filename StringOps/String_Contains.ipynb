{
 "cells": [
  {
   "cell_type": "markdown",
   "id": "8fe707fa",
   "metadata": {},
   "source": [
    "# String"
   ]
  },
  {
   "cell_type": "markdown",
   "id": "70fbb197",
   "metadata": {},
   "source": [
    "If you want to find rows that contain one of the substrings in a list, join that list using \"|\" then use the str.contains method."
   ]
  },
  {
   "cell_type": "code",
   "execution_count": 1,
   "id": "07af9215",
   "metadata": {},
   "outputs": [],
   "source": [
    "import pandas as pd"
   ]
  },
  {
   "cell_type": "code",
   "execution_count": 5,
   "id": "590f4707",
   "metadata": {},
   "outputs": [
    {
     "data": {
      "text/plain": [
       "0     Mango\n",
       "1    orange\n",
       "2        Dt\n",
       "3     Apple\n",
       "dtype: object"
      ]
     },
     "execution_count": 5,
     "metadata": {},
     "output_type": "execute_result"
    }
   ],
   "source": [
    "s = pd.Series([\"Mango\", \"orange\", \"Dt\", \"Apple\"])\n",
    "s"
   ]
  },
  {
   "cell_type": "code",
   "execution_count": 7,
   "id": "dc367772",
   "metadata": {},
   "outputs": [],
   "source": [
    "sub_str = ['go', 'ge']"
   ]
  },
  {
   "cell_type": "code",
   "execution_count": 8,
   "id": "548f84dd",
   "metadata": {},
   "outputs": [
    {
     "data": {
      "text/plain": [
       "'go|ge'"
      ]
     },
     "execution_count": 8,
     "metadata": {},
     "output_type": "execute_result"
    }
   ],
   "source": [
    "join_str = \"|\".join(sub_str)\n",
    "join_str"
   ]
  },
  {
   "cell_type": "code",
   "execution_count": 9,
   "id": "7fe3cd34",
   "metadata": {},
   "outputs": [
    {
     "data": {
      "text/plain": [
       "0     Mango\n",
       "1    orange\n",
       "dtype: object"
      ]
     },
     "execution_count": 9,
     "metadata": {},
     "output_type": "execute_result"
    }
   ],
   "source": [
    "s[s.str.contains(join_str)]"
   ]
  },
  {
   "cell_type": "code",
   "execution_count": null,
   "id": "3d3642bd",
   "metadata": {},
   "outputs": [],
   "source": []
  }
 ],
 "metadata": {
  "kernelspec": {
   "display_name": "Python 3 (ipykernel)",
   "language": "python",
   "name": "python3"
  },
  "language_info": {
   "codemirror_mode": {
    "name": "ipython",
    "version": 3
   },
   "file_extension": ".py",
   "mimetype": "text/x-python",
   "name": "python",
   "nbconvert_exporter": "python",
   "pygments_lexer": "ipython3",
   "version": "3.7.4"
  }
 },
 "nbformat": 4,
 "nbformat_minor": 5
}
